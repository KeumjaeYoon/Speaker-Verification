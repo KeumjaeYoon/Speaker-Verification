{
 "cells": [
  {
   "cell_type": "code",
   "execution_count": 1,
   "id": "86701092",
   "metadata": {},
   "outputs": [],
   "source": [
    "%config Completer.use_jedi = False"
   ]
  },
  {
   "cell_type": "code",
   "execution_count": 2,
   "id": "8dd34b68",
   "metadata": {
    "scrolled": true
   },
   "outputs": [],
   "source": [
    "import import_ipynb"
   ]
  },
  {
   "cell_type": "code",
   "execution_count": 3,
   "id": "f00597a6",
   "metadata": {},
   "outputs": [
    {
     "name": "stdout",
     "output_type": "stream",
     "text": [
      "importing Jupyter notebook from tools.ipynb\n",
      "importing Jupyter notebook from dataLoader.ipynb\n",
      "importing Jupyter notebook from ECAPAModel.ipynb\n",
      "importing Jupyter notebook from loss.ipynb\n",
      "importing Jupyter notebook from model.ipynb\n"
     ]
    }
   ],
   "source": [
    "import argparse, glob, os, torch, warnings, time\n",
    "from tools import *\n",
    "from dataLoader import *\n",
    "from ECAPAModel import ECAPAModel"
   ]
  },
  {
   "cell_type": "code",
   "execution_count": 4,
   "id": "d71f5afb",
   "metadata": {},
   "outputs": [],
   "source": [
    "import sys\n",
    "import torch\n",
    "from torch.utils.data import dataloader\n",
    "from torch.multiprocessing import reductions\n",
    "from multiprocessing.reduction import ForkingPickler\n",
    "\n",
    "default_collate_func = dataloader.default_collate\n",
    "\n",
    "\n",
    "def default_collate_override(batch):\n",
    "    dataloader._use_shared_memory = False\n",
    "    return default_collate_func(batch)\n",
    "\n",
    "setattr(dataloader, 'default_collate', default_collate_override)\n",
    "\n",
    "for t in torch._storage_classes:\n",
    "    if sys.version_info[0] == 2:\n",
    "        if t in ForkingPickler.dispatch:\n",
    "            del ForkingPickler.dispatch[t]\n",
    "    else:\n",
    "        if t in ForkingPickler._extra_reducers:\n",
    "            del ForkingPickler._extra_reducers[t]"
   ]
  },
  {
   "cell_type": "markdown",
   "id": "f38841b0",
   "metadata": {},
   "source": [
    "### ECAPA + ElasticLoss (All)"
   ]
  },
  {
   "cell_type": "code",
   "execution_count": null,
   "id": "610ee531",
   "metadata": {},
   "outputs": [
    {
     "name": "stdout",
     "output_type": "stream",
     "text": [
      "08-29 12:38:06 Model para number = 1.33\n"
     ]
    },
    {
     "name": "stderr",
     "output_type": "stream",
     "text": [
      "  0%|          | 0/4715 [00:00<?, ?it/s]ng: 100.00%,  Loss: 7.58502, ACC: 0.50% "
     ]
    },
    {
     "name": "stdout",
     "output_type": "stream",
     "text": [
      "\n"
     ]
    },
    {
     "name": "stderr",
     "output_type": "stream",
     "text": [
      "100%|██████████| 4715/4715 [01:23<00:00, 56.30it/s]\n"
     ]
    },
    {
     "name": "stdout",
     "output_type": "stream",
     "text": [
      "2023-08-29 13:05:03 1 epoch, ACC 0.50%, EER 21.53%, bestEER 21.53%\n"
     ]
    },
    {
     "name": "stderr",
     "output_type": "stream",
     "text": [
      "  0%|          | 0/4715 [00:00<?, ?it/s]ng: 100.00%,  Loss: 6.24959, ACC: 3.79% "
     ]
    },
    {
     "name": "stdout",
     "output_type": "stream",
     "text": [
      "\n"
     ]
    },
    {
     "name": "stderr",
     "output_type": "stream",
     "text": [
      "100%|██████████| 4715/4715 [01:23<00:00, 56.29it/s]\n"
     ]
    },
    {
     "name": "stdout",
     "output_type": "stream",
     "text": [
      "2023-08-29 13:31:55 2 epoch, ACC 3.79%, EER 14.27%, bestEER 14.27%\n"
     ]
    },
    {
     "name": "stderr",
     "output_type": "stream",
     "text": [
      "  0%|          | 0/4715 [00:00<?, ?it/s]ng: 100.00%,  Loss: 5.29156, ACC: 9.50% "
     ]
    },
    {
     "name": "stdout",
     "output_type": "stream",
     "text": [
      "\n"
     ]
    },
    {
     "name": "stderr",
     "output_type": "stream",
     "text": [
      "100%|██████████| 4715/4715 [01:20<00:00, 58.46it/s]\n"
     ]
    },
    {
     "name": "stdout",
     "output_type": "stream",
     "text": [
      "2023-08-29 13:59:11 3 epoch, ACC 9.50%, EER 11.83%, bestEER 11.83%\n"
     ]
    },
    {
     "name": "stderr",
     "output_type": "stream",
     "text": [
      "  0%|          | 0/4715 [00:00<?, ?it/s]ng: 100.00%,  Loss: 4.68179, ACC: 15.24% "
     ]
    },
    {
     "name": "stdout",
     "output_type": "stream",
     "text": [
      "\n"
     ]
    },
    {
     "name": "stderr",
     "output_type": "stream",
     "text": [
      "100%|██████████| 4715/4715 [01:20<00:00, 58.62it/s]\n"
     ]
    },
    {
     "name": "stdout",
     "output_type": "stream",
     "text": [
      "2023-08-29 14:26:24 4 epoch, ACC 15.24%, EER 11.15%, bestEER 11.15%\n"
     ]
    },
    {
     "name": "stderr",
     "output_type": "stream",
     "text": [
      "  0%|          | 0/4715 [00:00<?, ?it/s]ng: 100.00%,  Loss: 4.22375, ACC: 20.82% "
     ]
    },
    {
     "name": "stdout",
     "output_type": "stream",
     "text": [
      "\n"
     ]
    },
    {
     "name": "stderr",
     "output_type": "stream",
     "text": [
      "100%|██████████| 4715/4715 [01:15<00:00, 62.29it/s]\n"
     ]
    },
    {
     "name": "stdout",
     "output_type": "stream",
     "text": [
      "2023-08-29 14:53:32 5 epoch, ACC 20.82%, EER 10.28%, bestEER 10.28%\n"
     ]
    },
    {
     "name": "stderr",
     "output_type": "stream",
     "text": [
      "  0%|          | 0/4715 [00:00<?, ?it/s]ng: 100.00%,  Loss: 3.85139, ACC: 25.89% "
     ]
    },
    {
     "name": "stdout",
     "output_type": "stream",
     "text": [
      "\n"
     ]
    },
    {
     "name": "stderr",
     "output_type": "stream",
     "text": [
      "100%|██████████| 4715/4715 [01:20<00:00, 58.64it/s]\n"
     ]
    },
    {
     "name": "stdout",
     "output_type": "stream",
     "text": [
      "2023-08-29 15:20:57 6 epoch, ACC 25.89%, EER 9.49%, bestEER 9.49%\n"
     ]
    },
    {
     "name": "stderr",
     "output_type": "stream",
     "text": [
      "  0%|          | 0/4715 [00:00<?, ?it/s]ng: 100.00%,  Loss: 3.54128, ACC: 30.48% "
     ]
    },
    {
     "name": "stdout",
     "output_type": "stream",
     "text": [
      "\n"
     ]
    },
    {
     "name": "stderr",
     "output_type": "stream",
     "text": [
      "100%|██████████| 4715/4715 [01:18<00:00, 59.75it/s]\n"
     ]
    },
    {
     "name": "stdout",
     "output_type": "stream",
     "text": [
      "2023-08-29 15:47:54 7 epoch, ACC 30.48%, EER 8.72%, bestEER 8.72%\n"
     ]
    },
    {
     "name": "stderr",
     "output_type": "stream",
     "text": [
      "  0%|          | 0/4715 [00:00<?, ?it/s]ng: 100.00%,  Loss: 3.27288, ACC: 34.58% "
     ]
    },
    {
     "name": "stdout",
     "output_type": "stream",
     "text": [
      "\n"
     ]
    },
    {
     "name": "stderr",
     "output_type": "stream",
     "text": [
      "100%|██████████| 4715/4715 [01:20<00:00, 58.39it/s]\n"
     ]
    },
    {
     "name": "stdout",
     "output_type": "stream",
     "text": [
      "2023-08-29 16:14:52 8 epoch, ACC 34.58%, EER 8.73%, bestEER 8.72%\n"
     ]
    },
    {
     "name": "stderr",
     "output_type": "stream",
     "text": [
      "  0%|          | 0/4715 [00:00<?, ?it/s]ng: 100.00%,  Loss: 3.05228, ACC: 38.23% "
     ]
    },
    {
     "name": "stdout",
     "output_type": "stream",
     "text": [
      "\n"
     ]
    },
    {
     "name": "stderr",
     "output_type": "stream",
     "text": [
      "100%|██████████| 4715/4715 [01:22<00:00, 57.02it/s]\n"
     ]
    },
    {
     "name": "stdout",
     "output_type": "stream",
     "text": [
      "2023-08-29 16:41:44 9 epoch, ACC 38.23%, EER 8.21%, bestEER 8.21%\n"
     ]
    },
    {
     "name": "stderr",
     "output_type": "stream",
     "text": [
      "  0%|          | 0/4715 [00:00<?, ?it/s]ng: 100.00%,  Loss: 2.87071, ACC: 41.29% "
     ]
    },
    {
     "name": "stdout",
     "output_type": "stream",
     "text": [
      "\n"
     ]
    },
    {
     "name": "stderr",
     "output_type": "stream",
     "text": [
      "100%|██████████| 4715/4715 [01:21<00:00, 58.14it/s]\n"
     ]
    },
    {
     "name": "stdout",
     "output_type": "stream",
     "text": [
      "2023-08-29 17:08:45 10 epoch, ACC 41.29%, EER 7.91%, bestEER 7.91%\n"
     ]
    },
    {
     "name": "stderr",
     "output_type": "stream",
     "text": [
      "  0%|          | 0/4715 [00:00<?, ?it/s]ng: 100.00%,  Loss: 2.71450, ACC: 44.00% "
     ]
    },
    {
     "name": "stdout",
     "output_type": "stream",
     "text": [
      "\n"
     ]
    },
    {
     "name": "stderr",
     "output_type": "stream",
     "text": [
      "100%|██████████| 4715/4715 [01:18<00:00, 59.89it/s]\n"
     ]
    },
    {
     "name": "stdout",
     "output_type": "stream",
     "text": [
      "2023-08-29 17:35:41 11 epoch, ACC 44.00%, EER 7.69%, bestEER 7.69%\n"
     ]
    },
    {
     "name": "stderr",
     "output_type": "stream",
     "text": [
      "08-29 17:58:29 [12] Lr: 0.000100, Training: 88.53%,  Loss: 2.58153, ACC: 46.34% \r"
     ]
    }
   ],
   "source": [
    "parser = argparse.ArgumentParser(description = \"ECAPA_trainer\")\n",
    "## Training Settings\n",
    "parser.add_argument('--num_frames', type=int,   default=200,     help='Duration of the input segments, eg: 200 for 2 second')\n",
    "parser.add_argument('--max_epoch',  type=int,   default=80,      help='Maximum number of epochs')\n",
    "parser.add_argument('--batch_size', type=int,   default=400,     help='Batch size')\n",
    "parser.add_argument('--n_cpu',      type=int,   default=4,       help='Number of loader threads')\n",
    "parser.add_argument('--test_step',  type=int,   default=1,       help='Test and save every [test_step] epochs')\n",
    "parser.add_argument('--lr',         type=float, default=0.0001,   help='Learning rate')\n",
    "parser.add_argument(\"--lr_decay\",   type=float, default=1,    help='Learning rate decay every [test_step] epochs')\n",
    "\n",
    "## Training and evaluation path/lists, save path\n",
    "\n",
    "parser.add_argument('--train_list', type=str,   default=\"/data/vox/vox_train_list.txt\",     help='The path of the training list, https://www.robots.ox.ac.uk/~vgg/data/voxceleb/meta/train_list.txt')\n",
    "parser.add_argument('--train_path', type=str,   default=\"/data/vox/dev/aac\",                    help='The path of the training data, eg:\"/data08/VoxCeleb2/train/wav\" in my case')\n",
    "parser.add_argument('--eval_list',  type=str,   default=\"/data/vox/voxceleb1_test.txt\",              help='The path of the evaluation list, veri_test2.txt comes from https://www.robots.ox.ac.uk/~vgg/data/voxceleb/meta/veri_test2.txt')\n",
    "parser.add_argument('--eval_path',  type=str,   default=\"/data/vox1_test/wav\",                    help='The path of the evaluation data, eg:\"/data08/VoxCeleb1/test/wav\" in my case')\n",
    "parser.add_argument('--musan_path', type=str,   default=\"/data/musan\",                    help='The path to the MUSAN set, eg:\"/data08/Others/musan_split\" in my case')\n",
    "parser.add_argument('--rir_path',   type=str,   default=\"/data/rir/simulated_rirs\",     help='The path to the RIR set, eg:\"/data08/Others/RIRS_NOISES/simulated_rirs\" in my case');\n",
    "parser.add_argument('--save_path',  type=str,   default=\"/data/vox\",                                     help='Path to save the score.txt and models')\n",
    "parser.add_argument('--model_name', type=str,   default='resnetse_softmax',                        help='Model name to use')\n",
    "parser.add_argument('--encoder', type=str,   default='resnetse',                        help='Loss to use')\n",
    "parser.add_argument('--loss_name', type=str,   default='softmax',                        help='Loss to use')\n",
    "parser.add_argument('--initial_model',  type=str,   default=\"\",                                    help='Path of the initial_model')\n",
    "\n",
    "## Model and Loss settings\n",
    "parser.add_argument('--C',       type=int,   default=1024,   help='Channel size for the speaker encoder')\n",
    "parser.add_argument('--m',       type=float, default=0.2,    help='Loss margin in AAM softmax')\n",
    "parser.add_argument('--std',     type=float, default=0.05,    help='Loss sd in AAM softmax')\n",
    "parser.add_argument('--plus',     type=float, default=False,    help='Sort random value from gaussian')\n",
    "parser.add_argument('--s',       type=float, default=30,     help='Loss scale in AAM softmax')\n",
    "parser.add_argument('--n_class', type=int,   default=5994,   help='Number of speakers')\n",
    "\n",
    "## Command\n",
    "parser.add_argument('--eval',    dest='eval', action='store_true', help='Only do evaluation')\n",
    "\n",
    "## Initialization\n",
    "warnings.simplefilter(\"ignore\")\n",
    "torch.multiprocessing.set_sharing_strategy('file_system')\n",
    "args, _ = parser.parse_known_args()\n",
    "args = init_args(args)\n",
    "\n",
    "## Define the data loader\n",
    "trainloader = train_loader(**vars(args))\n",
    "trainLoader = torch.utils.data.DataLoader(trainloader, batch_size = args.batch_size, shuffle = True, num_workers = args.n_cpu, drop_last = True)\n",
    "\n",
    "## Search for the exist models\n",
    "modelfiles = glob.glob('%s/model_0*.model'%args.model_save_path)\n",
    "modelfiles.sort()\n",
    "\n",
    "## Only do evaluation, the initial_model is necessary\n",
    "if args.eval == True:\n",
    "    s = ECAPAModel(**vars(args))\n",
    "    print(\"Model %s loaded from previous state!\"%args.initial_model)\n",
    "    s.load_parameters(args.initial_model)\n",
    "    EER, minDCF = s.eval_network(eval_list = args.eval_list, eval_path = args.eval_path)\n",
    "    print(\"EER %2.2f%%, minDCF %.4f%%\"%(EER, minDCF))\n",
    "    quit()\n",
    "\n",
    "## If initial_model is exist, system will train from the initial_model\n",
    "if args.initial_model != \"\":\n",
    "    print(\"Model %s loaded from previous state!\"%args.initial_model)\n",
    "    s = ECAPAModel(**vars(args))\n",
    "    s.load_parameters(args.initial_model)\n",
    "    epoch = 1\n",
    "\n",
    "## Otherwise, system will try to start from the saved model&epoch\n",
    "elif len(modelfiles) >= 1:\n",
    "    print(\"Model %s loaded from previous state!\"%modelfiles[-1])\n",
    "    epoch = int(os.path.splitext(os.path.basename(modelfiles[-1]))[0][6:]) + 1\n",
    "    s = ECAPAModel(**vars(args))\n",
    "    s.load_parameters(modelfiles[-1])\n",
    "## Otherwise, system will train from scratch\n",
    "else:\n",
    "    epoch = 1\n",
    "    s = ECAPAModel(**vars(args))\n",
    "\n",
    "EERs = []\n",
    "score_file = open(args.score_save_path, \"a+\")\n",
    "\n",
    "while(1):\n",
    "    ## Training for one epoch\n",
    "    loss, lr, acc = s.train_network(epoch = epoch, loader = trainLoader)\n",
    "\n",
    "    ## Evaluation every [test_step] epochs\n",
    "    if epoch % args.test_step == 0:\n",
    "        s.save_parameters(args.model_save_path + \"/model_%04d.model\"%epoch)\n",
    "        EERs.append(s.eval_network(eval_list = args.eval_list, eval_path = args.eval_path)[0])\n",
    "        print(time.strftime(\"%Y-%m-%d %H:%M:%S\"), \"%d epoch, ACC %2.2f%%, EER %2.2f%%, bestEER %2.2f%%\"%(epoch, acc, EERs[-1], min(EERs)))\n",
    "        score_file.write(\"%d epoch, LR %f, LOSS %f, ACC %2.2f%%, EER %2.2f%%, bestEER %2.2f%%\\n\"%(epoch, lr, loss, acc, EERs[-1], min(EERs)))\n",
    "        score_file.flush()\n",
    "\n",
    "    if epoch >= args.max_epoch:\n",
    "        quit()\n",
    "\n",
    "    epoch += 1"
   ]
  },
  {
   "cell_type": "code",
   "execution_count": null,
   "id": "7f4641c9",
   "metadata": {},
   "outputs": [],
   "source": []
  }
 ],
 "metadata": {
  "kernelspec": {
   "display_name": "Python 3",
   "language": "python",
   "name": "python3"
  },
  "language_info": {
   "codemirror_mode": {
    "name": "ipython",
    "version": 3
   },
   "file_extension": ".py",
   "mimetype": "text/x-python",
   "name": "python",
   "nbconvert_exporter": "python",
   "pygments_lexer": "ipython3",
   "version": "3.6.9"
  },
  "toc": {
   "base_numbering": 1,
   "nav_menu": {},
   "number_sections": true,
   "sideBar": true,
   "skip_h1_title": false,
   "title_cell": "Table of Contents",
   "title_sidebar": "Contents",
   "toc_cell": false,
   "toc_position": {},
   "toc_section_display": true,
   "toc_window_display": false
  }
 },
 "nbformat": 4,
 "nbformat_minor": 5
}
