{
 "cells": [
  {
   "cell_type": "code",
   "execution_count": 2,
   "id": "2d40df0d",
   "metadata": {},
   "outputs": [
    {
     "name": "stdout",
     "output_type": "stream",
     "text": [
      "importing Jupyter notebook from tools.ipynb\n"
     ]
    }
   ],
   "source": [
    "import torch, math\n",
    "import torch.nn as nn\n",
    "import torch.nn.functional as F\n",
    "import numpy\n",
    "from tools import *"
   ]
  },
  {
   "cell_type": "code",
   "execution_count": 1,
   "id": "43e1b654",
   "metadata": {
    "collapsed": true
   },
   "outputs": [
    {
     "ename": "ModuleNotFoundError",
     "evalue": "No module named 'tools'",
     "output_type": "error",
     "traceback": [
      "\u001b[0;31m---------------------------------------------------------------------------\u001b[0m",
      "\u001b[0;31mModuleNotFoundError\u001b[0m                       Traceback (most recent call last)",
      "\u001b[0;32m<ipython-input-1-0645c191b4ae>\u001b[0m in \u001b[0;36m<module>\u001b[0;34m\u001b[0m\n\u001b[1;32m      2\u001b[0m \u001b[0;32mimport\u001b[0m \u001b[0mtorch\u001b[0m\u001b[0;34m.\u001b[0m\u001b[0mnn\u001b[0m \u001b[0;32mas\u001b[0m \u001b[0mnn\u001b[0m\u001b[0;34m\u001b[0m\u001b[0;34m\u001b[0m\u001b[0m\n\u001b[1;32m      3\u001b[0m \u001b[0;32mimport\u001b[0m \u001b[0mtorch\u001b[0m\u001b[0;34m.\u001b[0m\u001b[0mnn\u001b[0m\u001b[0;34m.\u001b[0m\u001b[0mfunctional\u001b[0m \u001b[0;32mas\u001b[0m \u001b[0mF\u001b[0m\u001b[0;34m\u001b[0m\u001b[0;34m\u001b[0m\u001b[0m\n\u001b[0;32m----> 4\u001b[0;31m \u001b[0;32mfrom\u001b[0m \u001b[0mtools\u001b[0m \u001b[0;32mimport\u001b[0m \u001b[0;34m*\u001b[0m\u001b[0;34m\u001b[0m\u001b[0;34m\u001b[0m\u001b[0m\n\u001b[0m\u001b[1;32m      5\u001b[0m \u001b[0;34m\u001b[0m\u001b[0m\n\u001b[1;32m      6\u001b[0m \u001b[0;32mclass\u001b[0m \u001b[0mCrossEntropyLoss\u001b[0m\u001b[0;34m(\u001b[0m\u001b[0mnn\u001b[0m\u001b[0;34m.\u001b[0m\u001b[0mModule\u001b[0m\u001b[0;34m)\u001b[0m\u001b[0;34m:\u001b[0m\u001b[0;34m\u001b[0m\u001b[0;34m\u001b[0m\u001b[0m\n",
      "\u001b[0;31mModuleNotFoundError\u001b[0m: No module named 'tools'"
     ]
    }
   ],
   "source": [
    "class CrossEntropyLoss(nn.Module):\n",
    "    def __init__(self, n_class, m, s):\n",
    "        \n",
    "        super(CrossEntropyLoss, self).__init__()\n",
    "        self.m = m\n",
    "        self.s = s\n",
    "        self.fc = nn.Linear(192, n_class)\n",
    "        self.ce = nn.CrossEntropyLoss()\n",
    "\n",
    "    def forward(self, x, label=None):\n",
    "        \n",
    "        output = self.fc(x)\n",
    "        \n",
    "        loss = self.ce(output, label)\n",
    "        prec1 = accuracy(output.detach(), label.detach(), topk=(1,))[0]\n",
    "\n",
    "        return loss, prec1"
   ]
  },
  {
   "cell_type": "code",
   "execution_count": null,
   "id": "b18a2879",
   "metadata": {},
   "outputs": [],
   "source": [
    "class AMSoftmax(nn.Module):\n",
    "    def __init__(self, n_class, m, s):\n",
    "        super(AMSoftmax, self).__init__()\n",
    "        \n",
    "        self.m = m\n",
    "        self.s = s\n",
    "        self.weight = torch.nn.Parameter(torch.FloatTensor(n_class, 192), requires_grad=True)\n",
    "        self.ce = nn.CrossEntropyLoss()\n",
    "        nn.init.xavier_normal_(self.weight, gain=1)\n",
    "\n",
    "    def forward(self, x, label=None):\n",
    "\n",
    "        cosine = F.linear(F.normalize(x), F.normalize(self.weight))\n",
    "        one_hot = torch.zeros_like(cosine)\n",
    "        one_hot.scatter_(1, label.view(-1, 1), self.m)\n",
    "        costh_m = cosine - one_hot\n",
    "        costh_m_s = self.s * costh_m\n",
    "        \n",
    "        loss    = self.ce(costh_m_s, label)\n",
    "        prec1   = accuracy(costh_m_s.detach(), label.detach(), topk=(1,))[0]\n",
    "        \n",
    "        return loss, prec1"
   ]
  },
  {
   "cell_type": "code",
   "execution_count": null,
   "id": "6f88f91f",
   "metadata": {},
   "outputs": [],
   "source": [
    "import torch, math\n",
    "import torch.nn as nn\n",
    "import torch.nn.functional as F\n",
    "from tools import *\n",
    "\n",
    "class AAMsoftmax(nn.Module):\n",
    "    def __init__(self, n_class, m, s):\n",
    "        \n",
    "        super(AAMsoftmax, self).__init__()\n",
    "        self.m = m\n",
    "        self.s = s\n",
    "        self.weight = torch.nn.Parameter(torch.FloatTensor(n_class, 192), requires_grad=True)\n",
    "        self.ce = nn.CrossEntropyLoss()\n",
    "        nn.init.xavier_normal_(self.weight, gain=1)\n",
    "        self.cos_m = math.cos(self.m)\n",
    "        self.sin_m = math.sin(self.m)\n",
    "        self.th = math.cos(math.pi - self.m)\n",
    "        self.mm = math.sin(math.pi - self.m) * self.m\n",
    "\n",
    "    def forward(self, x, label=None):\n",
    "        \n",
    "        cosine = F.linear(F.normalize(x), F.normalize(self.weight))\n",
    "        sine = torch.sqrt((1.0 - torch.mul(cosine, cosine)).clamp(0, 1))\n",
    "        phi = cosine * self.cos_m - sine * self.sin_m\n",
    "        phi = torch.where((cosine - self.th) > 0, phi, cosine - self.mm)\n",
    "        one_hot = torch.zeros_like(cosine)\n",
    "        one_hot.scatter_(1, label.view(-1, 1), 1)\n",
    "        output = (one_hot * phi) + ((1.0 - one_hot) * cosine)\n",
    "        output = output * self.s\n",
    "        \n",
    "        loss = self.ce(output, label)\n",
    "        prec1 = accuracy(output.detach(), label.detach(), topk=(1,))[0]\n",
    "\n",
    "        return loss, prec1"
   ]
  },
  {
   "cell_type": "code",
   "execution_count": 10,
   "id": "75a4277a",
   "metadata": {},
   "outputs": [],
   "source": [
    "import torch, math\n",
    "import torch.nn as nn\n",
    "import torch.nn.functional as F\n",
    "from tools import *\n",
    "\n",
    "class ElasticLoss_am(nn.Module):\n",
    "    def __init__(self, n_class, s=64.0, m=0.05,std=0.2,plus=False):\n",
    "        super(ElasticLoss_am, self).__init__()\n",
    "        \n",
    "        self.n_class = n_class\n",
    "        self.s = s\n",
    "        self.m = m\n",
    "        self.weight = torch.nn.Parameter(torch.FloatTensor(n_class, 192), requires_grad=True)\n",
    "        nn.init.xavier_normal_(self.weight, gain=1)\n",
    "        self.std=std\n",
    "        self.plus=plus\n",
    "        self.ce = nn.CrossEntropyLoss()\n",
    "\n",
    "    def forward(self, x, label=None):\n",
    "\n",
    "        cosine = F.linear(F.normalize(x), F.normalize(self.weight))\n",
    "        one_hot = torch.zeros_like(cosine)\n",
    "        index = torch.where(label != -1)[0]\n",
    "        margin = torch.normal(mean=self.m, std=self.std, size=label[index, None].size(), device=cosine.device).clamp(self.m-self.std, self.m+self.std)\n",
    "        one_hot.scatter_(1, label.view(-1, 1), margin)\n",
    "        costh_m = cosine - one_hot\n",
    "        costh_m_s = self.s * costh_m\n",
    "        \n",
    "        loss    = self.ce(costh_m_s, label)\n",
    "        prec1   = accuracy(costh_m_s.detach(), label.detach(), topk=(1,))[0]\n",
    "        \n",
    "        return loss, prec1"
   ]
  },
  {
   "cell_type": "code",
   "execution_count": 36,
   "id": "54c7a434",
   "metadata": {
    "collapsed": true
   },
   "outputs": [
    {
     "ename": "NameError",
     "evalue": "name 'nn' is not defined",
     "output_type": "error",
     "traceback": [
      "\u001b[0;31m---------------------------------------------------------------------------\u001b[0m",
      "\u001b[0;31mNameError\u001b[0m                                 Traceback (most recent call last)",
      "\u001b[0;32m<ipython-input-36-29360d6072b9>\u001b[0m in \u001b[0;36m<module>\u001b[0;34m\u001b[0m\n\u001b[0;32m----> 1\u001b[0;31m \u001b[0;32mclass\u001b[0m \u001b[0mElasticLoss_aam\u001b[0m\u001b[0;34m(\u001b[0m\u001b[0mnn\u001b[0m\u001b[0;34m.\u001b[0m\u001b[0mModule\u001b[0m\u001b[0;34m)\u001b[0m\u001b[0;34m:\u001b[0m\u001b[0;34m\u001b[0m\u001b[0;34m\u001b[0m\u001b[0m\n\u001b[0m\u001b[1;32m      2\u001b[0m     \u001b[0;32mdef\u001b[0m \u001b[0m__init__\u001b[0m\u001b[0;34m(\u001b[0m\u001b[0mself\u001b[0m\u001b[0;34m,\u001b[0m \u001b[0mn_class\u001b[0m\u001b[0;34m,\u001b[0m \u001b[0ms\u001b[0m\u001b[0;34m=\u001b[0m\u001b[0;36m64.0\u001b[0m\u001b[0;34m,\u001b[0m \u001b[0mm\u001b[0m\u001b[0;34m=\u001b[0m\u001b[0;36m0.05\u001b[0m\u001b[0;34m,\u001b[0m\u001b[0mstd\u001b[0m\u001b[0;34m=\u001b[0m\u001b[0;36m0.1\u001b[0m\u001b[0;34m,\u001b[0m\u001b[0mplus\u001b[0m\u001b[0;34m=\u001b[0m\u001b[0;32mFalse\u001b[0m\u001b[0;34m)\u001b[0m\u001b[0;34m:\u001b[0m\u001b[0;34m\u001b[0m\u001b[0;34m\u001b[0m\u001b[0m\n\u001b[1;32m      3\u001b[0m         \u001b[0msuper\u001b[0m\u001b[0;34m(\u001b[0m\u001b[0mElasticLoss_aam\u001b[0m\u001b[0;34m,\u001b[0m \u001b[0mself\u001b[0m\u001b[0;34m)\u001b[0m\u001b[0;34m.\u001b[0m\u001b[0m__init__\u001b[0m\u001b[0;34m(\u001b[0m\u001b[0;34m)\u001b[0m\u001b[0;34m\u001b[0m\u001b[0;34m\u001b[0m\u001b[0m\n\u001b[1;32m      4\u001b[0m         \u001b[0;31m#self.in_features = in_features\u001b[0m\u001b[0;34m\u001b[0m\u001b[0;34m\u001b[0m\u001b[0;34m\u001b[0m\u001b[0m\n\u001b[1;32m      5\u001b[0m         \u001b[0mself\u001b[0m\u001b[0;34m.\u001b[0m\u001b[0mn_class\u001b[0m \u001b[0;34m=\u001b[0m \u001b[0mn_class\u001b[0m\u001b[0;34m\u001b[0m\u001b[0;34m\u001b[0m\u001b[0m\n",
      "\u001b[0;31mNameError\u001b[0m: name 'nn' is not defined"
     ]
    }
   ],
   "source": [
    "class ElasticLoss_aam(nn.Module):\n",
    "    def __init__(self, n_class, s=64.0, m=0.05,std=0.1,plus=False):\n",
    "        super(ElasticLoss_aam, self).__init__()\n",
    "        #self.in_features = in_features\n",
    "        self.n_class = n_class\n",
    "        self.s = s\n",
    "        self.m = m\n",
    "        self.weight = torch.nn.Parameter(torch.FloatTensor(n_class, 192), requires_grad=True)\n",
    "        nn.init.xavier_normal_(self.weight, gain=1)\n",
    "        self.std=std\n",
    "        self.plus=plus\n",
    "        self.ce = nn.CrossEntropyLoss()\n",
    "        \n",
    "    def forward(self, embeddings, label):\n",
    "        cos_theta = F.linear(F.normalize(embeddings), F.normalize(self.weight))\n",
    "        cos_theta = cos_theta.clamp(-1, 1)  # for numerical stability\n",
    "        index = torch.where(label != -1)[0]\n",
    "        m_hot = torch.zeros(index.size()[0], cos_theta.size()[1], device=cos_theta.device)\n",
    "        margin = torch.normal(mean=self.m, std=self.std, size=label[index, None].size(), device=cos_theta.device).clamp(self.m-self.std, self.m+self.std) # Fast converge \n",
    "        if self.plus:\n",
    "            with torch.no_grad():\n",
    "                distmat = cos_theta[index, label.view(-1)].detach().clone()\n",
    "                _, idicate_cosie = torch.sort(distmat, dim=0, descending=True)\n",
    "                margin, _ = torch.sort(margin, dim=0, descending=True)\n",
    "            m_hot.scatter_(1, label[index, None], margin[idicate_cosie])\n",
    "        else:\n",
    "            m_hot.scatter_(1, label[index, None], margin)\n",
    "        cos_theta.acos_()\n",
    "        cos_theta[index] += m_hot\n",
    "        cos_theta.cos_().mul_(self.s)\n",
    "        \n",
    "        loss = self.ce(cos_theta, label)\n",
    "        prec1 = accuracy(cos_theta.detach(), label.detach(), topk=(1,))[0]\n",
    "\n",
    "        return loss, prec1"
   ]
  }
 ],
 "metadata": {
  "kernelspec": {
   "display_name": "Python 3",
   "language": "python",
   "name": "python3"
  },
  "language_info": {
   "codemirror_mode": {
    "name": "ipython",
    "version": 3
   },
   "file_extension": ".py",
   "mimetype": "text/x-python",
   "name": "python",
   "nbconvert_exporter": "python",
   "pygments_lexer": "ipython3",
   "version": "3.6.9"
  },
  "toc": {
   "base_numbering": 1,
   "nav_menu": {},
   "number_sections": true,
   "sideBar": true,
   "skip_h1_title": false,
   "title_cell": "Table of Contents",
   "title_sidebar": "Contents",
   "toc_cell": false,
   "toc_position": {},
   "toc_section_display": true,
   "toc_window_display": false
  }
 },
 "nbformat": 4,
 "nbformat_minor": 5
}
